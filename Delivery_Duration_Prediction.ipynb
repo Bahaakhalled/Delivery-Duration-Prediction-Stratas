{
  "nbformat": 4,
  "nbformat_minor": 0,
  "metadata": {
    "colab": {
      "provenance": [],
      "authorship_tag": "ABX9TyMyXk98QOvETKqwa31iWBEG",
      "include_colab_link": true
    },
    "kernelspec": {
      "name": "python3",
      "display_name": "Python 3"
    },
    "language_info": {
      "name": "python"
    }
  },
  "cells": [
    {
      "cell_type": "markdown",
      "metadata": {
        "id": "view-in-github",
        "colab_type": "text"
      },
      "source": [
        "<a href=\"https://colab.research.google.com/github/Bahaakhalled/Delivery-Duration-Prediction-Stratas/blob/main/Delivery_Duration_Prediction.ipynb\" target=\"_parent\"><img src=\"https://colab.research.google.com/assets/colab-badge.svg\" alt=\"Open In Colab\"/></a>"
      ]
    },
    {
      "cell_type": "code",
      "execution_count": 442,
      "metadata": {
        "id": "a7cJToZ-Czwi"
      },
      "outputs": [],
      "source": [
        "import pandas as pd\n",
        "import numpy as np\n",
        "import matplotlib.pyplot as plt\n",
        "import seaborn as sns\n"
      ]
    },
    {
      "cell_type": "code",
      "source": [
        "dash=pd.read_csv('historical_data.csv')\n",
        "dash.head()"
      ],
      "metadata": {
        "colab": {
          "base_uri": "https://localhost:8080/",
          "height": 357
        },
        "id": "kbQCcnkRDHTT",
        "outputId": "928caabb-3245-4eac-d407-d89f9bb4f436"
      },
      "execution_count": 443,
      "outputs": [
        {
          "output_type": "execute_result",
          "data": {
            "text/plain": [
              "   market_id           created_at actual_delivery_time  store_id  \\\n",
              "0        1.0  2015-02-06 22:24:17  2015-02-06 23:27:16      1845   \n",
              "1        2.0  2015-02-10 21:49:25  2015-02-10 22:56:29      5477   \n",
              "2        3.0  2015-01-22 20:39:28  2015-01-22 21:09:09      5477   \n",
              "3        3.0  2015-02-03 21:21:45  2015-02-03 22:13:00      5477   \n",
              "4        3.0  2015-02-15 02:40:36  2015-02-15 03:20:26      5477   \n",
              "\n",
              "  store_primary_category  order_protocol  total_items  subtotal  \\\n",
              "0               american             1.0            4      3441   \n",
              "1                mexican             2.0            1      1900   \n",
              "2                    NaN             1.0            1      1900   \n",
              "3                    NaN             1.0            6      6900   \n",
              "4                    NaN             1.0            3      3900   \n",
              "\n",
              "   num_distinct_items  min_item_price  max_item_price  total_onshift_dashers  \\\n",
              "0                   4             557            1239                   33.0   \n",
              "1                   1            1400            1400                    1.0   \n",
              "2                   1            1900            1900                    1.0   \n",
              "3                   5             600            1800                    1.0   \n",
              "4                   3            1100            1600                    6.0   \n",
              "\n",
              "   total_busy_dashers  total_outstanding_orders  \\\n",
              "0                14.0                      21.0   \n",
              "1                 2.0                       2.0   \n",
              "2                 0.0                       0.0   \n",
              "3                 1.0                       2.0   \n",
              "4                 6.0                       9.0   \n",
              "\n",
              "   estimated_order_place_duration  \\\n",
              "0                             446   \n",
              "1                             446   \n",
              "2                             446   \n",
              "3                             446   \n",
              "4                             446   \n",
              "\n",
              "   estimated_store_to_consumer_driving_duration  \n",
              "0                                         861.0  \n",
              "1                                         690.0  \n",
              "2                                         690.0  \n",
              "3                                         289.0  \n",
              "4                                         650.0  "
            ],
            "text/html": [
              "\n",
              "  <div id=\"df-2ae8dba7-da6a-402c-b220-4d8282580dae\">\n",
              "    <div class=\"colab-df-container\">\n",
              "      <div>\n",
              "<style scoped>\n",
              "    .dataframe tbody tr th:only-of-type {\n",
              "        vertical-align: middle;\n",
              "    }\n",
              "\n",
              "    .dataframe tbody tr th {\n",
              "        vertical-align: top;\n",
              "    }\n",
              "\n",
              "    .dataframe thead th {\n",
              "        text-align: right;\n",
              "    }\n",
              "</style>\n",
              "<table border=\"1\" class=\"dataframe\">\n",
              "  <thead>\n",
              "    <tr style=\"text-align: right;\">\n",
              "      <th></th>\n",
              "      <th>market_id</th>\n",
              "      <th>created_at</th>\n",
              "      <th>actual_delivery_time</th>\n",
              "      <th>store_id</th>\n",
              "      <th>store_primary_category</th>\n",
              "      <th>order_protocol</th>\n",
              "      <th>total_items</th>\n",
              "      <th>subtotal</th>\n",
              "      <th>num_distinct_items</th>\n",
              "      <th>min_item_price</th>\n",
              "      <th>max_item_price</th>\n",
              "      <th>total_onshift_dashers</th>\n",
              "      <th>total_busy_dashers</th>\n",
              "      <th>total_outstanding_orders</th>\n",
              "      <th>estimated_order_place_duration</th>\n",
              "      <th>estimated_store_to_consumer_driving_duration</th>\n",
              "    </tr>\n",
              "  </thead>\n",
              "  <tbody>\n",
              "    <tr>\n",
              "      <th>0</th>\n",
              "      <td>1.0</td>\n",
              "      <td>2015-02-06 22:24:17</td>\n",
              "      <td>2015-02-06 23:27:16</td>\n",
              "      <td>1845</td>\n",
              "      <td>american</td>\n",
              "      <td>1.0</td>\n",
              "      <td>4</td>\n",
              "      <td>3441</td>\n",
              "      <td>4</td>\n",
              "      <td>557</td>\n",
              "      <td>1239</td>\n",
              "      <td>33.0</td>\n",
              "      <td>14.0</td>\n",
              "      <td>21.0</td>\n",
              "      <td>446</td>\n",
              "      <td>861.0</td>\n",
              "    </tr>\n",
              "    <tr>\n",
              "      <th>1</th>\n",
              "      <td>2.0</td>\n",
              "      <td>2015-02-10 21:49:25</td>\n",
              "      <td>2015-02-10 22:56:29</td>\n",
              "      <td>5477</td>\n",
              "      <td>mexican</td>\n",
              "      <td>2.0</td>\n",
              "      <td>1</td>\n",
              "      <td>1900</td>\n",
              "      <td>1</td>\n",
              "      <td>1400</td>\n",
              "      <td>1400</td>\n",
              "      <td>1.0</td>\n",
              "      <td>2.0</td>\n",
              "      <td>2.0</td>\n",
              "      <td>446</td>\n",
              "      <td>690.0</td>\n",
              "    </tr>\n",
              "    <tr>\n",
              "      <th>2</th>\n",
              "      <td>3.0</td>\n",
              "      <td>2015-01-22 20:39:28</td>\n",
              "      <td>2015-01-22 21:09:09</td>\n",
              "      <td>5477</td>\n",
              "      <td>NaN</td>\n",
              "      <td>1.0</td>\n",
              "      <td>1</td>\n",
              "      <td>1900</td>\n",
              "      <td>1</td>\n",
              "      <td>1900</td>\n",
              "      <td>1900</td>\n",
              "      <td>1.0</td>\n",
              "      <td>0.0</td>\n",
              "      <td>0.0</td>\n",
              "      <td>446</td>\n",
              "      <td>690.0</td>\n",
              "    </tr>\n",
              "    <tr>\n",
              "      <th>3</th>\n",
              "      <td>3.0</td>\n",
              "      <td>2015-02-03 21:21:45</td>\n",
              "      <td>2015-02-03 22:13:00</td>\n",
              "      <td>5477</td>\n",
              "      <td>NaN</td>\n",
              "      <td>1.0</td>\n",
              "      <td>6</td>\n",
              "      <td>6900</td>\n",
              "      <td>5</td>\n",
              "      <td>600</td>\n",
              "      <td>1800</td>\n",
              "      <td>1.0</td>\n",
              "      <td>1.0</td>\n",
              "      <td>2.0</td>\n",
              "      <td>446</td>\n",
              "      <td>289.0</td>\n",
              "    </tr>\n",
              "    <tr>\n",
              "      <th>4</th>\n",
              "      <td>3.0</td>\n",
              "      <td>2015-02-15 02:40:36</td>\n",
              "      <td>2015-02-15 03:20:26</td>\n",
              "      <td>5477</td>\n",
              "      <td>NaN</td>\n",
              "      <td>1.0</td>\n",
              "      <td>3</td>\n",
              "      <td>3900</td>\n",
              "      <td>3</td>\n",
              "      <td>1100</td>\n",
              "      <td>1600</td>\n",
              "      <td>6.0</td>\n",
              "      <td>6.0</td>\n",
              "      <td>9.0</td>\n",
              "      <td>446</td>\n",
              "      <td>650.0</td>\n",
              "    </tr>\n",
              "  </tbody>\n",
              "</table>\n",
              "</div>\n",
              "      <button class=\"colab-df-convert\" onclick=\"convertToInteractive('df-2ae8dba7-da6a-402c-b220-4d8282580dae')\"\n",
              "              title=\"Convert this dataframe to an interactive table.\"\n",
              "              style=\"display:none;\">\n",
              "        \n",
              "  <svg xmlns=\"http://www.w3.org/2000/svg\" height=\"24px\"viewBox=\"0 0 24 24\"\n",
              "       width=\"24px\">\n",
              "    <path d=\"M0 0h24v24H0V0z\" fill=\"none\"/>\n",
              "    <path d=\"M18.56 5.44l.94 2.06.94-2.06 2.06-.94-2.06-.94-.94-2.06-.94 2.06-2.06.94zm-11 1L8.5 8.5l.94-2.06 2.06-.94-2.06-.94L8.5 2.5l-.94 2.06-2.06.94zm10 10l.94 2.06.94-2.06 2.06-.94-2.06-.94-.94-2.06-.94 2.06-2.06.94z\"/><path d=\"M17.41 7.96l-1.37-1.37c-.4-.4-.92-.59-1.43-.59-.52 0-1.04.2-1.43.59L10.3 9.45l-7.72 7.72c-.78.78-.78 2.05 0 2.83L4 21.41c.39.39.9.59 1.41.59.51 0 1.02-.2 1.41-.59l7.78-7.78 2.81-2.81c.8-.78.8-2.07 0-2.86zM5.41 20L4 18.59l7.72-7.72 1.47 1.35L5.41 20z\"/>\n",
              "  </svg>\n",
              "      </button>\n",
              "      \n",
              "  <style>\n",
              "    .colab-df-container {\n",
              "      display:flex;\n",
              "      flex-wrap:wrap;\n",
              "      gap: 12px;\n",
              "    }\n",
              "\n",
              "    .colab-df-convert {\n",
              "      background-color: #E8F0FE;\n",
              "      border: none;\n",
              "      border-radius: 50%;\n",
              "      cursor: pointer;\n",
              "      display: none;\n",
              "      fill: #1967D2;\n",
              "      height: 32px;\n",
              "      padding: 0 0 0 0;\n",
              "      width: 32px;\n",
              "    }\n",
              "\n",
              "    .colab-df-convert:hover {\n",
              "      background-color: #E2EBFA;\n",
              "      box-shadow: 0px 1px 2px rgba(60, 64, 67, 0.3), 0px 1px 3px 1px rgba(60, 64, 67, 0.15);\n",
              "      fill: #174EA6;\n",
              "    }\n",
              "\n",
              "    [theme=dark] .colab-df-convert {\n",
              "      background-color: #3B4455;\n",
              "      fill: #D2E3FC;\n",
              "    }\n",
              "\n",
              "    [theme=dark] .colab-df-convert:hover {\n",
              "      background-color: #434B5C;\n",
              "      box-shadow: 0px 1px 3px 1px rgba(0, 0, 0, 0.15);\n",
              "      filter: drop-shadow(0px 1px 2px rgba(0, 0, 0, 0.3));\n",
              "      fill: #FFFFFF;\n",
              "    }\n",
              "  </style>\n",
              "\n",
              "      <script>\n",
              "        const buttonEl =\n",
              "          document.querySelector('#df-2ae8dba7-da6a-402c-b220-4d8282580dae button.colab-df-convert');\n",
              "        buttonEl.style.display =\n",
              "          google.colab.kernel.accessAllowed ? 'block' : 'none';\n",
              "\n",
              "        async function convertToInteractive(key) {\n",
              "          const element = document.querySelector('#df-2ae8dba7-da6a-402c-b220-4d8282580dae');\n",
              "          const dataTable =\n",
              "            await google.colab.kernel.invokeFunction('convertToInteractive',\n",
              "                                                     [key], {});\n",
              "          if (!dataTable) return;\n",
              "\n",
              "          const docLinkHtml = 'Like what you see? Visit the ' +\n",
              "            '<a target=\"_blank\" href=https://colab.research.google.com/notebooks/data_table.ipynb>data table notebook</a>'\n",
              "            + ' to learn more about interactive tables.';\n",
              "          element.innerHTML = '';\n",
              "          dataTable['output_type'] = 'display_data';\n",
              "          await google.colab.output.renderOutput(dataTable, element);\n",
              "          const docLink = document.createElement('div');\n",
              "          docLink.innerHTML = docLinkHtml;\n",
              "          element.appendChild(docLink);\n",
              "        }\n",
              "      </script>\n",
              "    </div>\n",
              "  </div>\n",
              "  "
            ]
          },
          "metadata": {},
          "execution_count": 443
        }
      ]
    },
    {
      "cell_type": "code",
      "source": [
        "dash.info()"
      ],
      "metadata": {
        "colab": {
          "base_uri": "https://localhost:8080/"
        },
        "id": "yids02keDVUC",
        "outputId": "87962e83-b5d4-45da-cf29-ff78fce3145e"
      },
      "execution_count": 444,
      "outputs": [
        {
          "output_type": "stream",
          "name": "stdout",
          "text": [
            "<class 'pandas.core.frame.DataFrame'>\n",
            "RangeIndex: 197428 entries, 0 to 197427\n",
            "Data columns (total 16 columns):\n",
            " #   Column                                        Non-Null Count   Dtype  \n",
            "---  ------                                        --------------   -----  \n",
            " 0   market_id                                     196441 non-null  float64\n",
            " 1   created_at                                    197428 non-null  object \n",
            " 2   actual_delivery_time                          197421 non-null  object \n",
            " 3   store_id                                      197428 non-null  int64  \n",
            " 4   store_primary_category                        192668 non-null  object \n",
            " 5   order_protocol                                196433 non-null  float64\n",
            " 6   total_items                                   197428 non-null  int64  \n",
            " 7   subtotal                                      197428 non-null  int64  \n",
            " 8   num_distinct_items                            197428 non-null  int64  \n",
            " 9   min_item_price                                197428 non-null  int64  \n",
            " 10  max_item_price                                197428 non-null  int64  \n",
            " 11  total_onshift_dashers                         181166 non-null  float64\n",
            " 12  total_busy_dashers                            181166 non-null  float64\n",
            " 13  total_outstanding_orders                      181166 non-null  float64\n",
            " 14  estimated_order_place_duration                197428 non-null  int64  \n",
            " 15  estimated_store_to_consumer_driving_duration  196902 non-null  float64\n",
            "dtypes: float64(6), int64(7), object(3)\n",
            "memory usage: 24.1+ MB\n"
          ]
        }
      ]
    },
    {
      "cell_type": "code",
      "source": [
        "dash.describe()"
      ],
      "metadata": {
        "colab": {
          "base_uri": "https://localhost:8080/",
          "height": 364
        },
        "id": "i_CL03HVDT1s",
        "outputId": "2b4e33f6-2393-442f-980c-52f30fb95886"
      },
      "execution_count": 445,
      "outputs": [
        {
          "output_type": "execute_result",
          "data": {
            "text/plain": [
              "           market_id       store_id  order_protocol    total_items  \\\n",
              "count  196441.000000  197428.000000   196433.000000  197428.000000   \n",
              "mean        2.978706    3530.510272        2.882352       3.196391   \n",
              "std         1.524867    2053.496711        1.503771       2.666546   \n",
              "min         1.000000       1.000000        1.000000       1.000000   \n",
              "25%         2.000000    1686.000000        1.000000       2.000000   \n",
              "50%         3.000000    3592.000000        3.000000       3.000000   \n",
              "75%         4.000000    5299.000000        4.000000       4.000000   \n",
              "max         6.000000    6987.000000        7.000000     411.000000   \n",
              "\n",
              "            subtotal  num_distinct_items  min_item_price  max_item_price  \\\n",
              "count  197428.000000       197428.000000   197428.000000   197428.000000   \n",
              "mean     2682.331402            2.670791      686.218470     1159.588630   \n",
              "std      1823.093688            1.630255      522.038648      558.411377   \n",
              "min         0.000000            1.000000      -86.000000        0.000000   \n",
              "25%      1400.000000            1.000000      299.000000      800.000000   \n",
              "50%      2200.000000            2.000000      595.000000     1095.000000   \n",
              "75%      3395.000000            3.000000      949.000000     1395.000000   \n",
              "max     27100.000000           20.000000    14700.000000    14700.000000   \n",
              "\n",
              "       total_onshift_dashers  total_busy_dashers  total_outstanding_orders  \\\n",
              "count          181166.000000       181166.000000             181166.000000   \n",
              "mean               44.808093           41.739747                 58.050065   \n",
              "std                34.526783           32.145733                 52.661830   \n",
              "min                -4.000000           -5.000000                 -6.000000   \n",
              "25%                17.000000           15.000000                 17.000000   \n",
              "50%                37.000000           34.000000                 41.000000   \n",
              "75%                65.000000           62.000000                 85.000000   \n",
              "max               171.000000          154.000000                285.000000   \n",
              "\n",
              "       estimated_order_place_duration  \\\n",
              "count                   197428.000000   \n",
              "mean                       308.560179   \n",
              "std                         90.139653   \n",
              "min                          0.000000   \n",
              "25%                        251.000000   \n",
              "50%                        251.000000   \n",
              "75%                        446.000000   \n",
              "max                       2715.000000   \n",
              "\n",
              "       estimated_store_to_consumer_driving_duration  \n",
              "count                                 196902.000000  \n",
              "mean                                     545.358935  \n",
              "std                                      219.352902  \n",
              "min                                        0.000000  \n",
              "25%                                      382.000000  \n",
              "50%                                      544.000000  \n",
              "75%                                      702.000000  \n",
              "max                                     2088.000000  "
            ],
            "text/html": [
              "\n",
              "  <div id=\"df-9630b6a6-2a41-4fad-88b0-c9d218be43da\">\n",
              "    <div class=\"colab-df-container\">\n",
              "      <div>\n",
              "<style scoped>\n",
              "    .dataframe tbody tr th:only-of-type {\n",
              "        vertical-align: middle;\n",
              "    }\n",
              "\n",
              "    .dataframe tbody tr th {\n",
              "        vertical-align: top;\n",
              "    }\n",
              "\n",
              "    .dataframe thead th {\n",
              "        text-align: right;\n",
              "    }\n",
              "</style>\n",
              "<table border=\"1\" class=\"dataframe\">\n",
              "  <thead>\n",
              "    <tr style=\"text-align: right;\">\n",
              "      <th></th>\n",
              "      <th>market_id</th>\n",
              "      <th>store_id</th>\n",
              "      <th>order_protocol</th>\n",
              "      <th>total_items</th>\n",
              "      <th>subtotal</th>\n",
              "      <th>num_distinct_items</th>\n",
              "      <th>min_item_price</th>\n",
              "      <th>max_item_price</th>\n",
              "      <th>total_onshift_dashers</th>\n",
              "      <th>total_busy_dashers</th>\n",
              "      <th>total_outstanding_orders</th>\n",
              "      <th>estimated_order_place_duration</th>\n",
              "      <th>estimated_store_to_consumer_driving_duration</th>\n",
              "    </tr>\n",
              "  </thead>\n",
              "  <tbody>\n",
              "    <tr>\n",
              "      <th>count</th>\n",
              "      <td>196441.000000</td>\n",
              "      <td>197428.000000</td>\n",
              "      <td>196433.000000</td>\n",
              "      <td>197428.000000</td>\n",
              "      <td>197428.000000</td>\n",
              "      <td>197428.000000</td>\n",
              "      <td>197428.000000</td>\n",
              "      <td>197428.000000</td>\n",
              "      <td>181166.000000</td>\n",
              "      <td>181166.000000</td>\n",
              "      <td>181166.000000</td>\n",
              "      <td>197428.000000</td>\n",
              "      <td>196902.000000</td>\n",
              "    </tr>\n",
              "    <tr>\n",
              "      <th>mean</th>\n",
              "      <td>2.978706</td>\n",
              "      <td>3530.510272</td>\n",
              "      <td>2.882352</td>\n",
              "      <td>3.196391</td>\n",
              "      <td>2682.331402</td>\n",
              "      <td>2.670791</td>\n",
              "      <td>686.218470</td>\n",
              "      <td>1159.588630</td>\n",
              "      <td>44.808093</td>\n",
              "      <td>41.739747</td>\n",
              "      <td>58.050065</td>\n",
              "      <td>308.560179</td>\n",
              "      <td>545.358935</td>\n",
              "    </tr>\n",
              "    <tr>\n",
              "      <th>std</th>\n",
              "      <td>1.524867</td>\n",
              "      <td>2053.496711</td>\n",
              "      <td>1.503771</td>\n",
              "      <td>2.666546</td>\n",
              "      <td>1823.093688</td>\n",
              "      <td>1.630255</td>\n",
              "      <td>522.038648</td>\n",
              "      <td>558.411377</td>\n",
              "      <td>34.526783</td>\n",
              "      <td>32.145733</td>\n",
              "      <td>52.661830</td>\n",
              "      <td>90.139653</td>\n",
              "      <td>219.352902</td>\n",
              "    </tr>\n",
              "    <tr>\n",
              "      <th>min</th>\n",
              "      <td>1.000000</td>\n",
              "      <td>1.000000</td>\n",
              "      <td>1.000000</td>\n",
              "      <td>1.000000</td>\n",
              "      <td>0.000000</td>\n",
              "      <td>1.000000</td>\n",
              "      <td>-86.000000</td>\n",
              "      <td>0.000000</td>\n",
              "      <td>-4.000000</td>\n",
              "      <td>-5.000000</td>\n",
              "      <td>-6.000000</td>\n",
              "      <td>0.000000</td>\n",
              "      <td>0.000000</td>\n",
              "    </tr>\n",
              "    <tr>\n",
              "      <th>25%</th>\n",
              "      <td>2.000000</td>\n",
              "      <td>1686.000000</td>\n",
              "      <td>1.000000</td>\n",
              "      <td>2.000000</td>\n",
              "      <td>1400.000000</td>\n",
              "      <td>1.000000</td>\n",
              "      <td>299.000000</td>\n",
              "      <td>800.000000</td>\n",
              "      <td>17.000000</td>\n",
              "      <td>15.000000</td>\n",
              "      <td>17.000000</td>\n",
              "      <td>251.000000</td>\n",
              "      <td>382.000000</td>\n",
              "    </tr>\n",
              "    <tr>\n",
              "      <th>50%</th>\n",
              "      <td>3.000000</td>\n",
              "      <td>3592.000000</td>\n",
              "      <td>3.000000</td>\n",
              "      <td>3.000000</td>\n",
              "      <td>2200.000000</td>\n",
              "      <td>2.000000</td>\n",
              "      <td>595.000000</td>\n",
              "      <td>1095.000000</td>\n",
              "      <td>37.000000</td>\n",
              "      <td>34.000000</td>\n",
              "      <td>41.000000</td>\n",
              "      <td>251.000000</td>\n",
              "      <td>544.000000</td>\n",
              "    </tr>\n",
              "    <tr>\n",
              "      <th>75%</th>\n",
              "      <td>4.000000</td>\n",
              "      <td>5299.000000</td>\n",
              "      <td>4.000000</td>\n",
              "      <td>4.000000</td>\n",
              "      <td>3395.000000</td>\n",
              "      <td>3.000000</td>\n",
              "      <td>949.000000</td>\n",
              "      <td>1395.000000</td>\n",
              "      <td>65.000000</td>\n",
              "      <td>62.000000</td>\n",
              "      <td>85.000000</td>\n",
              "      <td>446.000000</td>\n",
              "      <td>702.000000</td>\n",
              "    </tr>\n",
              "    <tr>\n",
              "      <th>max</th>\n",
              "      <td>6.000000</td>\n",
              "      <td>6987.000000</td>\n",
              "      <td>7.000000</td>\n",
              "      <td>411.000000</td>\n",
              "      <td>27100.000000</td>\n",
              "      <td>20.000000</td>\n",
              "      <td>14700.000000</td>\n",
              "      <td>14700.000000</td>\n",
              "      <td>171.000000</td>\n",
              "      <td>154.000000</td>\n",
              "      <td>285.000000</td>\n",
              "      <td>2715.000000</td>\n",
              "      <td>2088.000000</td>\n",
              "    </tr>\n",
              "  </tbody>\n",
              "</table>\n",
              "</div>\n",
              "      <button class=\"colab-df-convert\" onclick=\"convertToInteractive('df-9630b6a6-2a41-4fad-88b0-c9d218be43da')\"\n",
              "              title=\"Convert this dataframe to an interactive table.\"\n",
              "              style=\"display:none;\">\n",
              "        \n",
              "  <svg xmlns=\"http://www.w3.org/2000/svg\" height=\"24px\"viewBox=\"0 0 24 24\"\n",
              "       width=\"24px\">\n",
              "    <path d=\"M0 0h24v24H0V0z\" fill=\"none\"/>\n",
              "    <path d=\"M18.56 5.44l.94 2.06.94-2.06 2.06-.94-2.06-.94-.94-2.06-.94 2.06-2.06.94zm-11 1L8.5 8.5l.94-2.06 2.06-.94-2.06-.94L8.5 2.5l-.94 2.06-2.06.94zm10 10l.94 2.06.94-2.06 2.06-.94-2.06-.94-.94-2.06-.94 2.06-2.06.94z\"/><path d=\"M17.41 7.96l-1.37-1.37c-.4-.4-.92-.59-1.43-.59-.52 0-1.04.2-1.43.59L10.3 9.45l-7.72 7.72c-.78.78-.78 2.05 0 2.83L4 21.41c.39.39.9.59 1.41.59.51 0 1.02-.2 1.41-.59l7.78-7.78 2.81-2.81c.8-.78.8-2.07 0-2.86zM5.41 20L4 18.59l7.72-7.72 1.47 1.35L5.41 20z\"/>\n",
              "  </svg>\n",
              "      </button>\n",
              "      \n",
              "  <style>\n",
              "    .colab-df-container {\n",
              "      display:flex;\n",
              "      flex-wrap:wrap;\n",
              "      gap: 12px;\n",
              "    }\n",
              "\n",
              "    .colab-df-convert {\n",
              "      background-color: #E8F0FE;\n",
              "      border: none;\n",
              "      border-radius: 50%;\n",
              "      cursor: pointer;\n",
              "      display: none;\n",
              "      fill: #1967D2;\n",
              "      height: 32px;\n",
              "      padding: 0 0 0 0;\n",
              "      width: 32px;\n",
              "    }\n",
              "\n",
              "    .colab-df-convert:hover {\n",
              "      background-color: #E2EBFA;\n",
              "      box-shadow: 0px 1px 2px rgba(60, 64, 67, 0.3), 0px 1px 3px 1px rgba(60, 64, 67, 0.15);\n",
              "      fill: #174EA6;\n",
              "    }\n",
              "\n",
              "    [theme=dark] .colab-df-convert {\n",
              "      background-color: #3B4455;\n",
              "      fill: #D2E3FC;\n",
              "    }\n",
              "\n",
              "    [theme=dark] .colab-df-convert:hover {\n",
              "      background-color: #434B5C;\n",
              "      box-shadow: 0px 1px 3px 1px rgba(0, 0, 0, 0.15);\n",
              "      filter: drop-shadow(0px 1px 2px rgba(0, 0, 0, 0.3));\n",
              "      fill: #FFFFFF;\n",
              "    }\n",
              "  </style>\n",
              "\n",
              "      <script>\n",
              "        const buttonEl =\n",
              "          document.querySelector('#df-9630b6a6-2a41-4fad-88b0-c9d218be43da button.colab-df-convert');\n",
              "        buttonEl.style.display =\n",
              "          google.colab.kernel.accessAllowed ? 'block' : 'none';\n",
              "\n",
              "        async function convertToInteractive(key) {\n",
              "          const element = document.querySelector('#df-9630b6a6-2a41-4fad-88b0-c9d218be43da');\n",
              "          const dataTable =\n",
              "            await google.colab.kernel.invokeFunction('convertToInteractive',\n",
              "                                                     [key], {});\n",
              "          if (!dataTable) return;\n",
              "\n",
              "          const docLinkHtml = 'Like what you see? Visit the ' +\n",
              "            '<a target=\"_blank\" href=https://colab.research.google.com/notebooks/data_table.ipynb>data table notebook</a>'\n",
              "            + ' to learn more about interactive tables.';\n",
              "          element.innerHTML = '';\n",
              "          dataTable['output_type'] = 'display_data';\n",
              "          await google.colab.output.renderOutput(dataTable, element);\n",
              "          const docLink = document.createElement('div');\n",
              "          docLink.innerHTML = docLinkHtml;\n",
              "          element.appendChild(docLink);\n",
              "        }\n",
              "      </script>\n",
              "    </div>\n",
              "  </div>\n",
              "  "
            ]
          },
          "metadata": {},
          "execution_count": 445
        }
      ]
    },
    {
      "cell_type": "code",
      "source": [
        "dash.nunique()"
      ],
      "metadata": {
        "colab": {
          "base_uri": "https://localhost:8080/"
        },
        "id": "vNWPEHb9EH2P",
        "outputId": "dd9fb183-52df-4080-a5cb-bdf1ad12af75"
      },
      "execution_count": 446,
      "outputs": [
        {
          "output_type": "execute_result",
          "data": {
            "text/plain": [
              "market_id                                            6\n",
              "created_at                                      180985\n",
              "actual_delivery_time                            178110\n",
              "store_id                                          6743\n",
              "store_primary_category                              74\n",
              "order_protocol                                       7\n",
              "total_items                                         57\n",
              "subtotal                                          8368\n",
              "num_distinct_items                                  20\n",
              "min_item_price                                    2312\n",
              "max_item_price                                    2652\n",
              "total_onshift_dashers                              172\n",
              "total_busy_dashers                                 159\n",
              "total_outstanding_orders                           281\n",
              "estimated_order_place_duration                      98\n",
              "estimated_store_to_consumer_driving_duration      1336\n",
              "dtype: int64"
            ]
          },
          "metadata": {},
          "execution_count": 446
        }
      ]
    },
    {
      "cell_type": "code",
      "source": [
        "drop_dash=dash.copy()\n",
        "import datetime as dt"
      ],
      "metadata": {
        "id": "94vM3VMAEPjY"
      },
      "execution_count": 447,
      "outputs": []
    },
    {
      "cell_type": "code",
      "source": [
        "drop_dash['created_at']=drop_dash['created_at'].astype('datetime64')\n",
        "drop_dash['actual_delivery_time']=drop_dash['actual_delivery_time'].astype('datetime64')"
      ],
      "metadata": {
        "id": "De__cgznJYW9"
      },
      "execution_count": 448,
      "outputs": []
    },
    {
      "cell_type": "code",
      "source": [
        "drop_dash['created_at'].describe()"
      ],
      "metadata": {
        "colab": {
          "base_uri": "https://localhost:8080/"
        },
        "id": "WZEHGrF4F8SH",
        "outputId": "3ab14cd7-a1d0-4b4c-fd17-6c0a03a0959a"
      },
      "execution_count": 449,
      "outputs": [
        {
          "output_type": "stream",
          "name": "stderr",
          "text": [
            "/usr/local/lib/python3.7/dist-packages/ipykernel_launcher.py:1: FutureWarning: Treating datetime data as categorical rather than numeric in `.describe` is deprecated and will be removed in a future version of pandas. Specify `datetime_is_numeric=True` to silence this warning and adopt the future behavior now.\n",
            "  \"\"\"Entry point for launching an IPython kernel.\n"
          ]
        },
        {
          "output_type": "execute_result",
          "data": {
            "text/plain": [
              "count                  197428\n",
              "unique                 180985\n",
              "top       2015-02-11 19:50:43\n",
              "freq                        6\n",
              "first     2014-10-19 05:24:15\n",
              "last      2015-02-18 06:00:44\n",
              "Name: created_at, dtype: object"
            ]
          },
          "metadata": {},
          "execution_count": 449
        }
      ]
    },
    {
      "cell_type": "code",
      "source": [
        "dlv_time=drop_dash['actual_delivery_time']-drop_dash['created_at']\n",
        "drop_dash['delivery_time']=dlv_time.dt.seconds"
      ],
      "metadata": {
        "id": "a65p1FZDGYM-"
      },
      "execution_count": 450,
      "outputs": []
    },
    {
      "cell_type": "code",
      "source": [
        "drop_dash['delivery_time'].mean()/60"
      ],
      "metadata": {
        "colab": {
          "base_uri": "https://localhost:8080/"
        },
        "id": "IjHfOmiSKROv",
        "outputId": "1a572a37-4279-4bda-a4c2-6447ca47c565"
      },
      "execution_count": 451,
      "outputs": [
        {
          "output_type": "execute_result",
          "data": {
            "text/plain": [
              "47.705080259952084"
            ]
          },
          "metadata": {},
          "execution_count": 451
        }
      ]
    },
    {
      "cell_type": "markdown",
      "source": [
        "Average Delivery Time for orders is ~47 Minutes"
      ],
      "metadata": {
        "id": "QIakZk2xLiP-"
      }
    },
    {
      "cell_type": "code",
      "source": [
        "~drop_dash.isnull().sum()"
      ],
      "metadata": {
        "colab": {
          "base_uri": "https://localhost:8080/"
        },
        "id": "DtD5NTbNKxG9",
        "outputId": "50fe04aa-1c5c-4897-d11d-a248f4aa6eb0"
      },
      "execution_count": 452,
      "outputs": [
        {
          "output_type": "execute_result",
          "data": {
            "text/plain": [
              "market_id                                        -988\n",
              "created_at                                         -1\n",
              "actual_delivery_time                               -8\n",
              "store_id                                           -1\n",
              "store_primary_category                          -4761\n",
              "order_protocol                                   -996\n",
              "total_items                                        -1\n",
              "subtotal                                           -1\n",
              "num_distinct_items                                 -1\n",
              "min_item_price                                     -1\n",
              "max_item_price                                     -1\n",
              "total_onshift_dashers                          -16263\n",
              "total_busy_dashers                             -16263\n",
              "total_outstanding_orders                       -16263\n",
              "estimated_order_place_duration                     -1\n",
              "estimated_store_to_consumer_driving_duration     -527\n",
              "delivery_time                                      -8\n",
              "dtype: int64"
            ]
          },
          "metadata": {},
          "execution_count": 452
        }
      ]
    },
    {
      "cell_type": "code",
      "source": [
        "missing=(drop_dash.isnull().sum().sum()/np.product(drop_dash.shape) ) * 100\n",
        "print('Data Missing: ',missing,'%')"
      ],
      "metadata": {
        "colab": {
          "base_uri": "https://localhost:8080/"
        },
        "id": "phTH0TaWLvKw",
        "outputId": "5df11c5c-199d-4a91-fe17-3d15868f4d40"
      },
      "execution_count": 453,
      "outputs": [
        {
          "output_type": "stream",
          "name": "stdout",
          "text": [
            "Data Missing:  1.6705419935666792 %\n"
          ]
        }
      ]
    },
    {
      "cell_type": "code",
      "source": [
        "print('{0} rows would be dropped if we delete rows with missing values out of {1} rows which is {2} % of the data'.format(drop_dash.shape[0] - drop_dash.dropna().shape[0],drop_dash.shape[0],(drop_dash.shape[0] - drop_dash.dropna().shape[0])/drop_dash.shape[0] * 100))"
      ],
      "metadata": {
        "colab": {
          "base_uri": "https://localhost:8080/"
        },
        "id": "aCq8YSHhMWyD",
        "outputId": "8113605a-6c37-4a0c-b36d-a87bcd61422b"
      },
      "execution_count": 454,
      "outputs": [
        {
          "output_type": "stream",
          "name": "stdout",
          "text": [
            "21651 rows would be dropped if we delete rows with missing values out of 197428 rows which is 10.96652957027372 % of the data\n"
          ]
        }
      ]
    },
    {
      "cell_type": "code",
      "source": [
        "drop_dash=drop_dash.dropna(axis=0)"
      ],
      "metadata": {
        "id": "O0_0NM6XMadR"
      },
      "execution_count": 455,
      "outputs": []
    },
    {
      "cell_type": "code",
      "source": [
        "drop_dash.hist(figsize=(30,15))"
      ],
      "metadata": {
        "colab": {
          "base_uri": "https://localhost:8080/",
          "height": 1000
        },
        "id": "zKtW69TFRV-Z",
        "outputId": "9fa5501b-c8f2-4097-cab2-8f6f4d57cf7a"
      },
      "execution_count": 456,
      "outputs": [
        {
          "output_type": "execute_result",
          "data": {
            "text/plain": [
              "array([[<matplotlib.axes._subplots.AxesSubplot object at 0x7fdfc4eba750>,\n",
              "        <matplotlib.axes._subplots.AxesSubplot object at 0x7fdfc2ede690>,\n",
              "        <matplotlib.axes._subplots.AxesSubplot object at 0x7fdfc2f00e90>,\n",
              "        <matplotlib.axes._subplots.AxesSubplot object at 0x7fdfc2ebd3d0>],\n",
              "       [<matplotlib.axes._subplots.AxesSubplot object at 0x7fdfc2e6c8d0>,\n",
              "        <matplotlib.axes._subplots.AxesSubplot object at 0x7fdfc2e21dd0>,\n",
              "        <matplotlib.axes._subplots.AxesSubplot object at 0x7fdfc2de5390>,\n",
              "        <matplotlib.axes._subplots.AxesSubplot object at 0x7fdfc2e1b7d0>],\n",
              "       [<matplotlib.axes._subplots.AxesSubplot object at 0x7fdfc2e1b810>,\n",
              "        <matplotlib.axes._subplots.AxesSubplot object at 0x7fdfc2dd1e10>,\n",
              "        <matplotlib.axes._subplots.AxesSubplot object at 0x7fdfc2d4b6d0>,\n",
              "        <matplotlib.axes._subplots.AxesSubplot object at 0x7fdfc2d01b90>],\n",
              "       [<matplotlib.axes._subplots.AxesSubplot object at 0x7fdfc2cc60d0>,\n",
              "        <matplotlib.axes._subplots.AxesSubplot object at 0x7fdfc2c7e5d0>,\n",
              "        <matplotlib.axes._subplots.AxesSubplot object at 0x7fdfc2c34ad0>,\n",
              "        <matplotlib.axes._subplots.AxesSubplot object at 0x7fdfc2bdfb10>]],\n",
              "      dtype=object)"
            ]
          },
          "metadata": {},
          "execution_count": 456
        },
        {
          "output_type": "display_data",
          "data": {
            "text/plain": [
              "<Figure size 2160x1080 with 16 Axes>"
            ],
            "image/png": "[encoded data removed]"
          },
          "metadata": {
            "needs_background": "light"
          }
        }
      ]
    },
    {
      "cell_type": "markdown",
      "source": [
        "**Histograms tell more on Column distribution,outlier existence and column value range**\n",
        "\n",
        "\n",
        "---\n",
        "\n",
        "We can obviously see outliers in various columns like total_items and min_item_price etc. which is better to check and perhaps remove to get better averaging and overview of the column and data\n",
        "\n",
        "\n",
        "---\n",
        "\n",
        "We can observe skewness in various columns aswell like total_busy_dashers and total_outstanding_orders etc."
      ],
      "metadata": {
        "id": "5wNp1zOMR5A-"
      }
    },
    {
      "cell_type": "code",
      "source": [
        "drop_dash2=drop_dash.copy()"
      ],
      "metadata": {
        "id": "zKPqHdsTlajE"
      },
      "execution_count": 457,
      "outputs": []
    },
    {
      "cell_type": "code",
      "source": [
        "outlier_cols=['total_items','max_item_price','delivery_time','estimated_order_place_duration','min_item_price','num_distinct_items','estimated_store_to_consumer_driving_duration']\n",
        "drop_dash2[outlier_cols].describe()"
      ],
      "metadata": {
        "colab": {
          "base_uri": "https://localhost:8080/",
          "height": 300
        },
        "id": "QwwIjP_wRrjG",
        "outputId": "515a65c5-8a4e-4859-c44d-6b837646cbd2"
      },
      "execution_count": 458,
      "outputs": [
        {
          "output_type": "execute_result",
          "data": {
            "text/plain": [
              "         total_items  max_item_price  delivery_time  \\\n",
              "count  175777.000000   175777.000000  175777.000000   \n",
              "mean        3.204976     1160.158616    2862.981949   \n",
              "std         2.674055      560.828571    1178.445769   \n",
              "min         1.000000        0.000000     101.000000   \n",
              "25%         2.000000      799.000000    2105.000000   \n",
              "50%         3.000000     1095.000000    2662.000000   \n",
              "75%         4.000000     1395.000000    3383.000000   \n",
              "max       411.000000    14700.000000   73282.000000   \n",
              "\n",
              "       estimated_order_place_duration  min_item_price  num_distinct_items  \\\n",
              "count                   175777.000000   175777.000000       175777.000000   \n",
              "mean                       307.818105      684.965433            2.675060   \n",
              "std                         89.796587      519.882924            1.625681   \n",
              "min                          0.000000      -86.000000            1.000000   \n",
              "25%                        251.000000      299.000000            1.000000   \n",
              "50%                        251.000000      595.000000            2.000000   \n",
              "75%                        446.000000      942.000000            3.000000   \n",
              "max                       2715.000000    14700.000000           20.000000   \n",
              "\n",
              "       estimated_store_to_consumer_driving_duration  \n",
              "count                                 175777.000000  \n",
              "mean                                     546.077240  \n",
              "std                                      218.717798  \n",
              "min                                        0.000000  \n",
              "25%                                      384.000000  \n",
              "50%                                      544.000000  \n",
              "75%                                      703.000000  \n",
              "max                                     2088.000000  "
            ],
            "text/html": [
              "\n",
              "  <div id=\"df-32839997-1557-484b-837c-0c80efe439f8\">\n",
              "    <div class=\"colab-df-container\">\n",
              "      <div>\n",
              "<style scoped>\n",
              "    .dataframe tbody tr th:only-of-type {\n",
              "        vertical-align: middle;\n",
              "    }\n",
              "\n",
              "    .dataframe tbody tr th {\n",
              "        vertical-align: top;\n",
              "    }\n",
              "\n",
              "    .dataframe thead th {\n",
              "        text-align: right;\n",
              "    }\n",
              "</style>\n",
              "<table border=\"1\" class=\"dataframe\">\n",
              "  <thead>\n",
              "    <tr style=\"text-align: right;\">\n",
              "      <th></th>\n",
              "      <th>total_items</th>\n",
              "      <th>max_item_price</th>\n",
              "      <th>delivery_time</th>\n",
              "      <th>estimated_order_place_duration</th>\n",
              "      <th>min_item_price</th>\n",
              "      <th>num_distinct_items</th>\n",
              "      <th>estimated_store_to_consumer_driving_duration</th>\n",
              "    </tr>\n",
              "  </thead>\n",
              "  <tbody>\n",
              "    <tr>\n",
              "      <th>count</th>\n",
              "      <td>175777.000000</td>\n",
              "      <td>175777.000000</td>\n",
              "      <td>175777.000000</td>\n",
              "      <td>175777.000000</td>\n",
              "      <td>175777.000000</td>\n",
              "      <td>175777.000000</td>\n",
              "      <td>175777.000000</td>\n",
              "    </tr>\n",
              "    <tr>\n",
              "      <th>mean</th>\n",
              "      <td>3.204976</td>\n",
              "      <td>1160.158616</td>\n",
              "      <td>2862.981949</td>\n",
              "      <td>307.818105</td>\n",
              "      <td>684.965433</td>\n",
              "      <td>2.675060</td>\n",
              "      <td>546.077240</td>\n",
              "    </tr>\n",
              "    <tr>\n",
              "      <th>std</th>\n",
              "      <td>2.674055</td>\n",
              "      <td>560.828571</td>\n",
              "      <td>1178.445769</td>\n",
              "      <td>89.796587</td>\n",
              "      <td>519.882924</td>\n",
              "      <td>1.625681</td>\n",
              "      <td>218.717798</td>\n",
              "    </tr>\n",
              "    <tr>\n",
              "      <th>min</th>\n",
              "      <td>1.000000</td>\n",
              "      <td>0.000000</td>\n",
              "      <td>101.000000</td>\n",
              "      <td>0.000000</td>\n",
              "      <td>-86.000000</td>\n",
              "      <td>1.000000</td>\n",
              "      <td>0.000000</td>\n",
              "    </tr>\n",
              "    <tr>\n",
              "      <th>25%</th>\n",
              "      <td>2.000000</td>\n",
              "      <td>799.000000</td>\n",
              "      <td>2105.000000</td>\n",
              "      <td>251.000000</td>\n",
              "      <td>299.000000</td>\n",
              "      <td>1.000000</td>\n",
              "      <td>384.000000</td>\n",
              "    </tr>\n",
              "    <tr>\n",
              "      <th>50%</th>\n",
              "      <td>3.000000</td>\n",
              "      <td>1095.000000</td>\n",
              "      <td>2662.000000</td>\n",
              "      <td>251.000000</td>\n",
              "      <td>595.000000</td>\n",
              "      <td>2.000000</td>\n",
              "      <td>544.000000</td>\n",
              "    </tr>\n",
              "    <tr>\n",
              "      <th>75%</th>\n",
              "      <td>4.000000</td>\n",
              "      <td>1395.000000</td>\n",
              "      <td>3383.000000</td>\n",
              "      <td>446.000000</td>\n",
              "      <td>942.000000</td>\n",
              "      <td>3.000000</td>\n",
              "      <td>703.000000</td>\n",
              "    </tr>\n",
              "    <tr>\n",
              "      <th>max</th>\n",
              "      <td>411.000000</td>\n",
              "      <td>14700.000000</td>\n",
              "      <td>73282.000000</td>\n",
              "      <td>2715.000000</td>\n",
              "      <td>14700.000000</td>\n",
              "      <td>20.000000</td>\n",
              "      <td>2088.000000</td>\n",
              "    </tr>\n",
              "  </tbody>\n",
              "</table>\n",
              "</div>\n",
              "      <button class=\"colab-df-convert\" onclick=\"convertToInteractive('df-32839997-1557-484b-837c-0c80efe439f8')\"\n",
              "              title=\"Convert this dataframe to an interactive table.\"\n",
              "              style=\"display:none;\">\n",
              "        \n",
              "  <svg xmlns=\"http://www.w3.org/2000/svg\" height=\"24px\"viewBox=\"0 0 24 24\"\n",
              "       width=\"24px\">\n",
              "    <path d=\"M0 0h24v24H0V0z\" fill=\"none\"/>\n",
              "    <path d=\"M18.56 5.44l.94 2.06.94-2.06 2.06-.94-2.06-.94-.94-2.06-.94 2.06-2.06.94zm-11 1L8.5 8.5l.94-2.06 2.06-.94-2.06-.94L8.5 2.5l-.94 2.06-2.06.94zm10 10l.94 2.06.94-2.06 2.06-.94-2.06-.94-.94-2.06-.94 2.06-2.06.94z\"/><path d=\"M17.41 7.96l-1.37-1.37c-.4-.4-.92-.59-1.43-.59-.52 0-1.04.2-1.43.59L10.3 9.45l-7.72 7.72c-.78.78-.78 2.05 0 2.83L4 21.41c.39.39.9.59 1.41.59.51 0 1.02-.2 1.41-.59l7.78-7.78 2.81-2.81c.8-.78.8-2.07 0-2.86zM5.41 20L4 18.59l7.72-7.72 1.47 1.35L5.41 20z\"/>\n",
              "  </svg>\n",
              "      </button>\n",
              "      \n",
              "  <style>\n",
              "    .colab-df-container {\n",
              "      display:flex;\n",
              "      flex-wrap:wrap;\n",
              "      gap: 12px;\n",
              "    }\n",
              "\n",
              "    .colab-df-convert {\n",
              "      background-color: #E8F0FE;\n",
              "      border: none;\n",
              "      border-radius: 50%;\n",
              "      cursor: pointer;\n",
              "      display: none;\n",
              "      fill: #1967D2;\n",
              "      height: 32px;\n",
              "      padding: 0 0 0 0;\n",
              "      width: 32px;\n",
              "    }\n",
              "\n",
              "    .colab-df-convert:hover {\n",
              "      background-color: #E2EBFA;\n",
              "      box-shadow: 0px 1px 2px rgba(60, 64, 67, 0.3), 0px 1px 3px 1px rgba(60, 64, 67, 0.15);\n",
              "      fill: #174EA6;\n",
              "    }\n",
              "\n",
              "    [theme=dark] .colab-df-convert {\n",
              "      background-color: #3B4455;\n",
              "      fill: #D2E3FC;\n",
              "    }\n",
              "\n",
              "    [theme=dark] .colab-df-convert:hover {\n",
              "      background-color: #434B5C;\n",
              "      box-shadow: 0px 1px 3px 1px rgba(0, 0, 0, 0.15);\n",
              "      filter: drop-shadow(0px 1px 2px rgba(0, 0, 0, 0.3));\n",
              "      fill: #FFFFFF;\n",
              "    }\n",
              "  </style>\n",
              "\n",
              "      <script>\n",
              "        const buttonEl =\n",
              "          document.querySelector('#df-32839997-1557-484b-837c-0c80efe439f8 button.colab-df-convert');\n",
              "        buttonEl.style.display =\n",
              "          google.colab.kernel.accessAllowed ? 'block' : 'none';\n",
              "\n",
              "        async function convertToInteractive(key) {\n",
              "          const element = document.querySelector('#df-32839997-1557-484b-837c-0c80efe439f8');\n",
              "          const dataTable =\n",
              "            await google.colab.kernel.invokeFunction('convertToInteractive',\n",
              "                                                     [key], {});\n",
              "          if (!dataTable) return;\n",
              "\n",
              "          const docLinkHtml = 'Like what you see? Visit the ' +\n",
              "            '<a target=\"_blank\" href=https://colab.research.google.com/notebooks/data_table.ipynb>data table notebook</a>'\n",
              "            + ' to learn more about interactive tables.';\n",
              "          element.innerHTML = '';\n",
              "          dataTable['output_type'] = 'display_data';\n",
              "          await google.colab.output.renderOutput(dataTable, element);\n",
              "          const docLink = document.createElement('div');\n",
              "          docLink.innerHTML = docLinkHtml;\n",
              "          element.appendChild(docLink);\n",
              "        }\n",
              "      </script>\n",
              "    </div>\n",
              "  </div>\n",
              "  "
            ]
          },
          "metadata": {},
          "execution_count": 458
        }
      ]
    },
    {
      "cell_type": "code",
      "source": [
        "def find_outliers_IQR(df):\n",
        "   q1=df.quantile(0.25)\n",
        "   q3=df.quantile(0.75)\n",
        "   IQR=q3-q1\n",
        "   outliers = df[((df<(q1-1.5*IQR)) | (df>(q3+1.5*IQR)))]\n",
        "   return outliers\n",
        "\n",
        "\n",
        "def print_outliers(df):\n",
        "  outliers = find_outliers_IQR(df)\n",
        "  print(df.name)\n",
        "  print('number of outliers: '+ str(len(outliers)))\n",
        "  print('max outlier value: '+ str(outliers.max()))\n",
        "  print('min outlier value: '+ str(outliers.min()) + '\\n')\n",
        "  print(df.shape)\n",
        "\n",
        "def delete_outliers(df):\n",
        "  q1=df.quantile(0.25)\n",
        "  q3=df.quantile(0.75)\n",
        "  IQR=q3-q1\n",
        "  not_outliers = df[~((df<(q1-1.5*IQR)) | (df>(q3+1.5*IQR)))]\n",
        "  outliers_dropped = not_outliers.dropna().reset_index()\n",
        "  return outliers_dropped"
      ],
      "metadata": {
        "id": "lZW-KI5mVH0s"
      },
      "execution_count": 459,
      "outputs": []
    },
    {
      "cell_type": "code",
      "source": [
        "drop_dash2.select_dtypes(exclude=object).apply(print_outliers)"
      ],
      "metadata": {
        "colab": {
          "base_uri": "https://localhost:8080/"
        },
        "id": "1nwXuIUoTvg_",
        "outputId": "e19df3b3-16d6-4570-c1a4-d4f9892b784b"
      },
      "execution_count": 460,
      "outputs": [
        {
          "output_type": "stream",
          "name": "stdout",
          "text": [
            "market_id\n",
            "number of outliers: 0\n",
            "max outlier value: nan\n",
            "min outlier value: nan\n",
            "\n",
            "(175777,)\n",
            "created_at\n",
            "number of outliers: 0\n",
            "max outlier value: NaT\n",
            "min outlier value: NaT\n",
            "\n",
            "(175777,)\n",
            "actual_delivery_time\n",
            "number of outliers: 0\n",
            "max outlier value: NaT\n",
            "min outlier value: NaT\n",
            "\n",
            "(175777,)\n",
            "store_id\n",
            "number of outliers: 0\n",
            "max outlier value: nan\n",
            "min outlier value: nan\n",
            "\n",
            "(175777,)\n",
            "order_protocol\n",
            "number of outliers: 0\n",
            "max outlier value: nan\n",
            "min outlier value: nan\n",
            "\n",
            "(175777,)\n",
            "total_items\n",
            "number of outliers: 8486\n",
            "max outlier value: 411\n",
            "min outlier value: 8\n",
            "\n",
            "(175777,)\n",
            "subtotal\n",
            "number of outliers: 8050\n",
            "max outlier value: 26800\n",
            "min outlier value: 6408\n",
            "\n",
            "(175777,)\n",
            "num_distinct_items\n",
            "number of outliers: 5249\n",
            "max outlier value: 20\n",
            "min outlier value: 7\n",
            "\n",
            "(175777,)\n",
            "min_item_price\n",
            "number of outliers: 4047\n",
            "max outlier value: 14700\n",
            "min outlier value: 1909\n",
            "\n",
            "(175777,)\n",
            "max_item_price\n",
            "number of outliers: 6954\n",
            "max outlier value: 14700\n",
            "min outlier value: 2290\n",
            "\n",
            "(175777,)\n",
            "total_onshift_dashers\n",
            "number of outliers: 1208\n",
            "max outlier value: 171.0\n",
            "min outlier value: 140.0\n",
            "\n",
            "(175777,)\n",
            "total_busy_dashers\n",
            "number of outliers: 463\n",
            "max outlier value: 154.0\n",
            "min outlier value: 136.0\n",
            "\n",
            "(175777,)\n",
            "total_outstanding_orders\n",
            "number of outliers: 5194\n",
            "max outlier value: 285.0\n",
            "min outlier value: 188.0\n",
            "\n",
            "(175777,)\n",
            "estimated_order_place_duration\n",
            "number of outliers: 26\n",
            "max outlier value: 2715\n",
            "min outlier value: 761\n",
            "\n",
            "(175777,)\n",
            "estimated_store_to_consumer_driving_duration\n",
            "number of outliers: 315\n",
            "max outlier value: 2088.0\n",
            "min outlier value: 1182.0\n",
            "\n",
            "(175777,)\n",
            "delivery_time\n",
            "number of outliers: 5531\n",
            "max outlier value: 73282.0\n",
            "min outlier value: 101.0\n",
            "\n",
            "(175777,)\n"
          ]
        },
        {
          "output_type": "execute_result",
          "data": {
            "text/plain": [
              "market_id                                       None\n",
              "created_at                                      None\n",
              "actual_delivery_time                            None\n",
              "store_id                                        None\n",
              "order_protocol                                  None\n",
              "total_items                                     None\n",
              "subtotal                                        None\n",
              "num_distinct_items                              None\n",
              "min_item_price                                  None\n",
              "max_item_price                                  None\n",
              "total_onshift_dashers                           None\n",
              "total_busy_dashers                              None\n",
              "total_outstanding_orders                        None\n",
              "estimated_order_place_duration                  None\n",
              "estimated_store_to_consumer_driving_duration    None\n",
              "delivery_time                                   None\n",
              "dtype: object"
            ]
          },
          "metadata": {},
          "execution_count": 460
        }
      ]
    },
    {
      "cell_type": "code",
      "source": [
        "drop_dash2.select_dtypes(exclude=[object,'datetime']).columns"
      ],
      "metadata": {
        "colab": {
          "base_uri": "https://localhost:8080/"
        },
        "id": "gGkdJhBomUhG",
        "outputId": "075082e0-3509-4531-9b05-0858947115db"
      },
      "execution_count": 461,
      "outputs": [
        {
          "output_type": "execute_result",
          "data": {
            "text/plain": [
              "Index(['market_id', 'store_id', 'order_protocol', 'total_items', 'subtotal',\n",
              "       'num_distinct_items', 'min_item_price', 'max_item_price',\n",
              "       'total_onshift_dashers', 'total_busy_dashers',\n",
              "       'total_outstanding_orders', 'estimated_order_place_duration',\n",
              "       'estimated_store_to_consumer_driving_duration', 'delivery_time'],\n",
              "      dtype='object')"
            ]
          },
          "metadata": {},
          "execution_count": 461
        }
      ]
    },
    {
      "cell_type": "markdown",
      "source": [
        "As a start i'll be removing outliers according to the interquantile range"
      ],
      "metadata": {
        "id": "LnrxLKi2Y3Bv"
      }
    },
    {
      "cell_type": "code",
      "source": [
        "#drop_dash2.select_dtypes(exclude=[object,'datetime']).apply(delete_outliers)"
      ],
      "metadata": {
        "id": "ULg2LkMAWz0y"
      },
      "execution_count": 462,
      "outputs": []
    }
  ]
}